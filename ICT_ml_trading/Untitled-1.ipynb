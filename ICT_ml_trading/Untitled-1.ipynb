{
 "cells": [
  {
   "cell_type": "code",
   "execution_count": null,
   "id": "04362d47",
   "metadata": {},
   "outputs": [],
   "source": [
    "%cd C:/Users/MELODY/Documents/Forex/ICT/ICT_ml_trading\n"
   ]
  },
  {
   "cell_type": "code",
   "execution_count": null,
   "id": "32807c16",
   "metadata": {},
   "outputs": [],
   "source": [
    "%pip install -e .\n"
   ]
  },
  {
   "cell_type": "code",
   "execution_count": null,
   "id": "15cadec2",
   "metadata": {},
   "outputs": [],
   "source": [
    "%pip install -e .\n",
    "\n",
    "from src.utils.visualization import plot_equity_curve, plot_drawdown, plot_metric_bar\n",
    "import pandas as pd, numpy as np\n",
    "import os, sys\n",
    "print(\"cwd:\", os.getcwd())\n",
    "print(\"python:\", sys.executable)\n",
    "dates = pd.date_range('2025-01-01', periods=10, freq='D')\n",
    "eq = pd.Series(1000 * (1 + np.linspace(0, 0.1, 10)), index=dates)\n",
    "plot_equity_curve(eq, show=True)\n",
    "plot_drawdown(eq, show=True)\n",
    "plot_metric_bar({'sharpe_ratio': 1.23, 'max_drawdown': -0.05}, show=True)\n"
   ]
  },
  {
   "cell_type": "code",
   "execution_count": 10,
   "id": "0553d37c",
   "metadata": {},
   "outputs": [
    {
     "ename": "FileNotFoundError",
     "evalue": "Local data file not found: C:\\Users\\MELODY\\AppData\\Local\\Programs\\Microsoft VS Code\\data\\GBPUSD=X_1hr.csv",
     "output_type": "error",
     "traceback": [
      "\u001b[1;31m---------------------------------------------------------------------------\u001b[0m",
      "\u001b[1;31mFileNotFoundError\u001b[0m                         Traceback (most recent call last)",
      "Cell \u001b[1;32mIn[10], line 29\u001b[0m\n\u001b[0;32m     27\u001b[0m local_file \u001b[38;5;241m=\u001b[39m PROJECT_ROOT \u001b[38;5;241m/\u001b[39m \u001b[38;5;124m\"\u001b[39m\u001b[38;5;124mdata\u001b[39m\u001b[38;5;124m\"\u001b[39m \u001b[38;5;241m/\u001b[39m \u001b[38;5;124m\"\u001b[39m\u001b[38;5;124mGBPUSD=X_1hr.csv\u001b[39m\u001b[38;5;124m\"\u001b[39m\n\u001b[0;32m     28\u001b[0m \u001b[38;5;28;01mif\u001b[39;00m \u001b[38;5;129;01mnot\u001b[39;00m local_file\u001b[38;5;241m.\u001b[39mexists():\n\u001b[1;32m---> 29\u001b[0m     \u001b[38;5;28;01mraise\u001b[39;00m \u001b[38;5;167;01mFileNotFoundError\u001b[39;00m(\u001b[38;5;124mf\u001b[39m\u001b[38;5;124m\"\u001b[39m\u001b[38;5;124mLocal data file not found: \u001b[39m\u001b[38;5;132;01m{\u001b[39;00mlocal_file\u001b[38;5;132;01m}\u001b[39;00m\u001b[38;5;124m\"\u001b[39m)\n\u001b[0;32m     31\u001b[0m df \u001b[38;5;241m=\u001b[39m loader\u001b[38;5;241m.\u001b[39mload_data(\n\u001b[0;32m     32\u001b[0m     symbol\u001b[38;5;241m=\u001b[39m\u001b[38;5;124m\"\u001b[39m\u001b[38;5;124mGBPUSD\u001b[39m\u001b[38;5;124m\"\u001b[39m,\n\u001b[0;32m     33\u001b[0m     start_date\u001b[38;5;241m=\u001b[39m\u001b[38;5;124m\"\u001b[39m\u001b[38;5;124m2023-01-01\u001b[39m\u001b[38;5;124m\"\u001b[39m,\n\u001b[1;32m   (...)\u001b[0m\n\u001b[0;32m     36\u001b[0m     data_source\u001b[38;5;241m=\u001b[39m\u001b[38;5;124m\"\u001b[39m\u001b[38;5;124mlocal\u001b[39m\u001b[38;5;124m\"\u001b[39m   \u001b[38;5;66;03m# force local-only\u001b[39;00m\n\u001b[0;32m     37\u001b[0m )\n\u001b[0;32m     39\u001b[0m \u001b[38;5;66;03m# 4) Feature engineering\u001b[39;00m\n",
      "\u001b[1;31mFileNotFoundError\u001b[0m: Local data file not found: C:\\Users\\MELODY\\AppData\\Local\\Programs\\Microsoft VS Code\\data\\GBPUSD=X_1hr.csv"
     ]
    }
   ],
   "source": [
    "# run_pipeline.py\n",
    "\n",
    "import os\n",
    "import sys\n",
    "from pathlib import Path\n",
    "\n",
    "# ────────────────────────────────────────────────────────\n",
    "# 1) Make your `src/` folder importable without packaging\n",
    "PROJECT_ROOT = Path(os.getcwd()).resolve()\n",
    "SRC_DIR      = PROJECT_ROOT / \"src\"\n",
    "if str(SRC_DIR) not in sys.path:\n",
    "    sys.path.insert(0, str(SRC_DIR))\n",
    "# ────────────────────────────────────────────────────────\n",
    "\n",
    "# 2) Imports (exactly as your tests use them)\n",
    "from data_processing.data_loader    import DataLoader\n",
    "from features.feature_engineering   import ICTFeatureEngineer\n",
    "from ml_models.model_builder        import build_random_forest\n",
    "from ml_models.trainer              import grid_search_with_checkpoint\n",
    "from trading.strategy               import TradingStrategy\n",
    "from trading.backtester             import backtest_signals\n",
    "\n",
    "# 3) Load your **local** CSVs from `data/` (not `data/raw/`)\n",
    "loader = DataLoader(data_path=PROJECT_ROOT / \"data\")\n",
    "\n",
    "# Ensure the local file exists before loading\n",
    "local_file = PROJECT_ROOT / \"data\" / \"GBPUSD=X_1hr.csv\"\n",
    "if not local_file.exists():\n",
    "    raise FileNotFoundError(f\"Local data file not found: {local_file}\")\n",
    "\n",
    "df = loader.load_data(\n",
    "    symbol=\"GBPUSD\",\n",
    "    start_date=\"2023-01-01\",\n",
    "    end_date=\"2023-01-10\",\n",
    "    interval=\"1h\",\n",
    "    data_source=\"local\"   # force local-only\n",
    ")\n",
    "\n",
    "# 4) Feature engineering\n",
    "fe = ICTFeatureEngineer(lookback_periods=[5,10,20], feature_selection_threshold=0.01)\n",
    "fs = fe.engineer_features(df, symbol=\"EURUSD\", additional_data={})\n",
    "X = fs.features\n",
    "y = X.pop(\"future_direction_5\")  # your target\n",
    "\n",
    "# 5) Train a tiny grid (uses your existing checkpoint logic)\n",
    "model, grid_results = grid_search_with_checkpoint(\n",
    "    build_random_forest(n_estimators=50, pca_components=None),\n",
    "    {\"clf__n_estimators\": [50, 100]},\n",
    "    X, y,\n",
    "    cv=3,\n",
    "    scoring=\"accuracy\",\n",
    "    checkpoint_path=PROJECT_ROOT / \"checkpoints\" / \"rf_checkpoint.pkl\"\n",
    ")\n",
    "print(\"Best model params:\", model.get_params())\n",
    "\n",
    "# 6) Generate signals & backtest\n",
    "signals = TradingStrategy(model).generate_signals(X)\n",
    "equity  = backtest_signals(signals, df[[\"close\"]], initial_equity=10_000)\n",
    "print(\"Final equity:\", equity.iloc[-1])\n",
    "\n",
    "# 7) Save equity curve for inspection\n",
    "(out := PROJECT_ROOT / \"reports\").mkdir(exist_ok=True)\n",
    "equity.to_csv(out / \"equity_curve.csv\")\n",
    "print(\"Equity curve →\", out / \"equity_curve.csv\")\n"
   ]
  }
 ],
 "metadata": {
  "kernelspec": {
   "display_name": "Python 3",
   "language": "python",
   "name": "python3"
  },
  "language_info": {
   "codemirror_mode": {
    "name": "ipython",
    "version": 3
   },
   "file_extension": ".py",
   "mimetype": "text/x-python",
   "name": "python",
   "nbconvert_exporter": "python",
   "pygments_lexer": "ipython3",
   "version": "3.10.0"
  }
 },
 "nbformat": 4,
 "nbformat_minor": 5
}
